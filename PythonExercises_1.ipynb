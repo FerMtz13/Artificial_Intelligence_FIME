{
  "nbformat": 4,
  "nbformat_minor": 0,
  "metadata": {
    "colab": {
      "provenance": [],
      "collapsed_sections": [
        "lFcPS3PGBIAL",
        "KgSiBvHhKMww"
      ]
    },
    "kernelspec": {
      "name": "python3",
      "display_name": "Python 3"
    },
    "language_info": {
      "name": "python"
    }
  },
  "cells": [
    {
      "cell_type": "markdown",
      "source": [
        "#**Student Information**\n",
        "\n",
        "##**Name:** Fernanda Hassel Martínez Aragón\n",
        "##**Student ID:** 1898637\n",
        "##**Class Day:** Thursday\n",
        "##**Hour:** N4-N6"
      ],
      "metadata": {
        "id": "8yZF_tXRLZZ-"
      }
    },
    {
      "cell_type": "markdown",
      "source": [
        "# **Text Analysis Tool**\n",
        "\n",
        "Create a Python program that reads a text file and performs various analyses on its content. The program should: Count the number of words, sentences, and paragraphs. Calculate the average word length. Identify the most common words and their frequencies."
      ],
      "metadata": {
        "id": "lFcPS3PGBIAL"
      }
    },
    {
      "cell_type": "code",
      "execution_count": 4,
      "metadata": {
        "colab": {
          "base_uri": "https://localhost:8080/"
        },
        "id": "77SeZhrDAy0R",
        "outputId": "258b408c-d2bb-402d-bfce-4db891653a9d"
      },
      "outputs": [
        {
          "output_type": "stream",
          "name": "stderr",
          "text": [
            "[nltk_data] Downloading package punkt to /root/nltk_data...\n",
            "[nltk_data]   Unzipping tokenizers/punkt.zip.\n"
          ]
        },
        {
          "output_type": "execute_result",
          "data": {
            "text/plain": [
              "True"
            ]
          },
          "metadata": {},
          "execution_count": 4
        }
      ],
      "source": [
        "# Natural Language Processing Library\n",
        "import nltk\n",
        "from nltk import sent_tokenize, word_tokenize\n",
        "from nltk.probability import FreqDist\n",
        "nltk.download('punkt')"
      ]
    },
    {
      "cell_type": "code",
      "source": [
        "# Read the text file\n",
        "file_path = '/Act_Python.txt' # File path\n",
        "with open(file_path, 'r', encoding='utf-8') as file:\n",
        "    text = file.read()\n",
        "\n",
        "# Tokenize into sentences and words\n",
        "sentences = sent_tokenize(text)\n",
        "words = word_tokenize(text)"
      ],
      "metadata": {
        "id": "QhCuBd7MDobg"
      },
      "execution_count": 6,
      "outputs": []
    },
    {
      "cell_type": "code",
      "source": [
        "# Counts words, sentences and paragraphs\n",
        "num_words = len(words)\n",
        "num_sentences = len(sentences)\n",
        "paragraphs = text.split('\\n\\n')  # Assumes paragraphs are separated by two newlines\n",
        "num_paragraphs = len(paragraphs)\n",
        "\n",
        "# Average word length\n",
        "total_word_length = sum(len(word) for word in words)\n",
        "average_word_length = total_word_length / num_words if num_words > 0 else 0\n",
        "\n",
        "# Common words\n",
        "fdist = FreqDist(words)\n",
        "most_common_words = fdist.most_common(10) # It will visualizes the 10 most repeated words"
      ],
      "metadata": {
        "id": "Rv83lfRyFXnV"
      },
      "execution_count": 10,
      "outputs": []
    },
    {
      "cell_type": "code",
      "source": [
        "print(f\"Number of words: {num_words}\")\n",
        "print(f\"Number of sentences: {num_sentences}\")\n",
        "print(f\"Number of paragraphs: {num_paragraphs}\")\n",
        "print(f\"Average word length: {average_word_length:.2f} characters\")\n",
        "print(\"\\nMost common words:\")\n",
        "for word, frequency in most_common_words:\n",
        "    print(f\"{word}: {frequency}\")"
      ],
      "metadata": {
        "colab": {
          "base_uri": "https://localhost:8080/"
        },
        "id": "v-O5ZMxMGsON",
        "outputId": "d26a46f9-549a-4dd4-a8f3-f333ef7a52b0"
      },
      "execution_count": 11,
      "outputs": [
        {
          "output_type": "stream",
          "name": "stdout",
          "text": [
            "Number of words: 543\n",
            "Number of sentences: 19\n",
            "Number of paragraphs: 10\n",
            "Average word length: 5.13 characters\n",
            "\n",
            "Most common words:\n",
            "la: 30\n",
            "y: 29\n",
            ",: 24\n",
            "en: 22\n",
            "de: 20\n",
            ".: 19\n",
            "el: 13\n",
            "del: 12\n",
            "que: 12\n",
            "un: 8\n"
          ]
        }
      ]
    },
    {
      "cell_type": "markdown",
      "source": [
        "#**Hangman Game**\n",
        "\n",
        "Create a Python program that allows a user to play the game of Hangman. The program should randomly select a word from a predefined list, and the player must guess letters one at a time until they guess the word correctly or run out of attempts."
      ],
      "metadata": {
        "id": "_cnWhxO9Hh1W"
      }
    },
    {
      "cell_type": "code",
      "source": [
        "# Library for pseudorandom number generation\n",
        "import random"
      ],
      "metadata": {
        "id": "I1siOMm3HtGS"
      },
      "execution_count": 15,
      "outputs": []
    },
    {
      "cell_type": "code",
      "source": [
        "# Create list of words\n",
        "word_list = [\"taylor swift\", \"fearless\", \"speak now\", \"red\", \"reputation\", \"lover\", \"folklore\", \"evermore\", \"midnights\"]\n",
        "\n",
        "# Selects a random word from the list\n",
        "selected_word = random.choice(word_list)\n",
        "\n",
        "# Initialize variables\n",
        "max_attempts = 15\n",
        "attempts = 0\n",
        "correct_letters = []\n",
        "incorrect_letters = []\n",
        "guessed_word = [\"_\"] * len(selected_word)\n",
        "\n",
        "# Current state of the game\n",
        "def display_current_state():\n",
        "    print(\"\\nAttempts remaining:\", max_attempts - attempts)\n",
        "    print(\"Word:\", \" \".join(guessed_word))\n",
        "    print(\"Incorrect guesses:\", \" \".join(incorrect_letters))"
      ],
      "metadata": {
        "id": "4hZmX3WzIbPG"
      },
      "execution_count": 16,
      "outputs": []
    },
    {
      "cell_type": "code",
      "source": [
        "#Game Loop\n",
        "while attempts < max_attempts:\n",
        "    display_current_state()\n",
        "\n",
        "    # Ask the player to guess a letter\n",
        "    guess = input(\"Guess a letter: \").lower()\n",
        "\n",
        "    # Check if the guess is a single letter\n",
        "    if len(guess) != 1 or not guess.isalpha():\n",
        "        print(\"Please enter a valid single letter.\")\n",
        "        continue\n",
        "\n",
        "    # Check if the letter has already been guessed\n",
        "    if guess in correct_letters or guess in incorrect_letters:\n",
        "        print(\"You've already guessed that letter.\")\n",
        "        continue\n",
        "\n",
        "    # Check if the guess is correct\n",
        "    if guess in selected_word:\n",
        "        correct_letters.append(guess)\n",
        "        for i, letter in enumerate(selected_word):\n",
        "            if letter == guess:\n",
        "                guessed_word[i] = guess\n",
        "    else:\n",
        "        incorrect_letters.append(guess)\n",
        "        attempts += 1\n",
        "\n",
        "    # Check if the player has won\n",
        "    if \"\".join(guessed_word) == selected_word:\n",
        "        display_current_state()\n",
        "        print(\"\\nCongratulations! You've guessed the word:\", selected_word)\n",
        "        break\n",
        "else:\n",
        "    display_current_state()\n",
        "    print(\"\\nOut of attempts! The word was:\", selected_word)"
      ],
      "metadata": {
        "colab": {
          "base_uri": "https://localhost:8080/"
        },
        "id": "zOnBvfDQJPzC",
        "outputId": "b546490e-4ceb-41de-8c3f-b2911082f3b6"
      },
      "execution_count": 17,
      "outputs": [
        {
          "output_type": "stream",
          "name": "stdout",
          "text": [
            "\n",
            "Attempts remaining: 15\n",
            "Word: _ _ _ _ _ _ _ _ _ _\n",
            "Incorrect guesses: \n",
            "Guess a letter: a\n",
            "\n",
            "Attempts remaining: 15\n",
            "Word: _ _ _ _ _ a _ _ _ _\n",
            "Incorrect guesses: \n",
            "Guess a letter: e\n",
            "\n",
            "Attempts remaining: 15\n",
            "Word: _ e _ _ _ a _ _ _ _\n",
            "Incorrect guesses: \n",
            "Guess a letter: r\n",
            "\n",
            "Attempts remaining: 15\n",
            "Word: r e _ _ _ a _ _ _ _\n",
            "Incorrect guesses: \n",
            "Guess a letter: p\n",
            "\n",
            "Attempts remaining: 15\n",
            "Word: r e p _ _ a _ _ _ _\n",
            "Incorrect guesses: \n",
            "Guess a letter: u\n",
            "\n",
            "Attempts remaining: 15\n",
            "Word: r e p u _ a _ _ _ _\n",
            "Incorrect guesses: \n",
            "Guess a letter: t\n",
            "\n",
            "Attempts remaining: 15\n",
            "Word: r e p u t a t _ _ _\n",
            "Incorrect guesses: \n",
            "Guess a letter: i\n",
            "\n",
            "Attempts remaining: 15\n",
            "Word: r e p u t a t i _ _\n",
            "Incorrect guesses: \n",
            "Guess a letter: o\n",
            "\n",
            "Attempts remaining: 15\n",
            "Word: r e p u t a t i o _\n",
            "Incorrect guesses: \n",
            "Guess a letter: n\n",
            "\n",
            "Attempts remaining: 15\n",
            "Word: r e p u t a t i o n\n",
            "Incorrect guesses: \n",
            "\n",
            "Congratulations! You've guessed the word: reputation\n"
          ]
        }
      ]
    },
    {
      "cell_type": "markdown",
      "source": [
        "#**Number Guessing Game**\n",
        "\n",
        "Create a program that generates a random number between 1 and 100, and then asks the user to guess the number. The program should provide hints to the user if the guessed number is greater or less than the target number, and keep asking for a new guess until the user guesses correctly."
      ],
      "metadata": {
        "id": "KgSiBvHhKMww"
      }
    },
    {
      "cell_type": "code",
      "source": [
        "# Library for pseudorandom number generation\n",
        "import random\n",
        "\n",
        "# Generates random number from 1 to 100\n",
        "target_number=random.randint(1,100)\n",
        "\n",
        "# Initialize number of guesses\n",
        "guesses = 0"
      ],
      "metadata": {
        "id": "PsA37WFPKaJv"
      },
      "execution_count": 18,
      "outputs": []
    },
    {
      "cell_type": "code",
      "source": [
        "# Loop\n",
        "while True:\n",
        "    # Ask the user for a guess\n",
        "    guess = input(\"Guess the number (between 1 and 100): \")\n",
        "\n",
        "    try:\n",
        "        guess = int(guess)\n",
        "    except ValueError:\n",
        "        print(\"Please enter a valid number.\")\n",
        "        continue\n",
        "\n",
        "    guesses += 1\n",
        "\n",
        "    # Check if the guess is correct\n",
        "    if guess == target_number:\n",
        "        print(f\"Congratulations! You guessed the number {target_number} correctly in {guesses} guesses.\")\n",
        "        break\n",
        "    elif guess < target_number:\n",
        "        print(\"Try again. The number is greater than your guess.\")\n",
        "    else:\n",
        "        print(\"Try again. The number is less than your guess.\")"
      ],
      "metadata": {
        "colab": {
          "base_uri": "https://localhost:8080/"
        },
        "id": "OOxKrUwWK0vH",
        "outputId": "ea915be4-8988-4975-ba6b-b4e58456a691"
      },
      "execution_count": 19,
      "outputs": [
        {
          "output_type": "stream",
          "name": "stdout",
          "text": [
            "Guess the number (between 1 and 100): 50\n",
            "Try again. The number is less than your guess.\n",
            "Guess the number (between 1 and 100): 25\n",
            "Try again. The number is greater than your guess.\n",
            "Guess the number (between 1 and 100): 30\n",
            "Try again. The number is greater than your guess.\n",
            "Guess the number (between 1 and 100): 35\n",
            "Try again. The number is greater than your guess.\n",
            "Guess the number (between 1 and 100): 40\n",
            "Try again. The number is greater than your guess.\n",
            "Guess the number (between 1 and 100): 45\n",
            "Try again. The number is less than your guess.\n",
            "Guess the number (between 1 and 100): 41\n",
            "Try again. The number is greater than your guess.\n",
            "Guess the number (between 1 and 100): 42\n",
            "Try again. The number is greater than your guess.\n",
            "Guess the number (between 1 and 100): 43\n",
            "Try again. The number is greater than your guess.\n",
            "Guess the number (between 1 and 100): 44\n",
            "Congratulations! You guessed the number 44 correctly in 10 guesses.\n"
          ]
        }
      ]
    }
  ]
}