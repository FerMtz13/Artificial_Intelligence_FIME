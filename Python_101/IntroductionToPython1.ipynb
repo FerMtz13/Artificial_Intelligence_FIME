{
  "nbformat": 4,
  "nbformat_minor": 0,
  "metadata": {
    "colab": {
      "provenance": []
    },
    "kernelspec": {
      "name": "python3",
      "display_name": "Python 3"
    },
    "language_info": {
      "name": "python"
    }
  },
  "cells": [
    {
      "cell_type": "markdown",
      "metadata": {
        "id": "o-hxfVQs6O3n"
      },
      "source": [
        "#**1.1 What is Python?**#\n",
        "\n",
        "---\n",
        "Python is a highly popular programming language created by Guido van Rossum in 1991.\n",
        "\n",
        "It is widely used for various applications:\n",
        "\n",
        "- Web development.\n",
        "- Software development.\n",
        "- Database connectivity.\n",
        "- Working with different types of data and performing complex - Mathematical operations.\n",
        "- For rapid prototyping.\n",
        "- Etc.\n",
        "\n",
        "There are two versions of Python: Python 2 and Python 3.\n",
        "In this class, we will focus on Python 3.\n",
        "\n",
        "In addition to its various applications, Python stands out for its easy syntax. It relies more on indentation and less on parentheses and semicolons.\n",
        "\n",
        "For practical purposes, in this class, we will use Google Colab: https://colab.research.google.com/notebooks/welcome.ipynb?hl=en\n",
        "\n",
        "Google Colab allows us to execute and program in Python without the need to directly install anything on our computer.\n",
        "\n",
        "However, there are other environments for developing and running our Python code, such as Jupyter or Spyder.\n"
      ]
    },
    {
      "cell_type": "code",
      "metadata": {
        "id": "4OH7nCHL57pO",
        "colab": {
          "base_uri": "https://localhost:8080/"
        },
        "outputId": "8ef81edf-2666-42eb-86f2-1d00be095778"
      },
      "source": [
        "print(\"Hello World!\")"
      ],
      "execution_count": null,
      "outputs": [
        {
          "output_type": "stream",
          "name": "stdout",
          "text": [
            "Hello World!\n"
          ]
        }
      ]
    },
    {
      "cell_type": "code",
      "metadata": {
        "colab": {
          "base_uri": "https://localhost:8080/"
        },
        "id": "6-CjWbDcpJqy",
        "outputId": "87443983-8559-40b4-85ba-52179658843b"
      },
      "source": [
        "if 5>2:\n",
        "  print(\"Five is greater than two!\")"
      ],
      "execution_count": null,
      "outputs": [
        {
          "output_type": "stream",
          "name": "stdout",
          "text": [
            "Five is greater than two!\n"
          ]
        }
      ]
    },
    {
      "cell_type": "markdown",
      "metadata": {
        "id": "D768ncm_6xzN"
      },
      "source": [
        "# **1.2 Comments in Python**\n",
        "\n",
        "---\n",
        "\n",
        "Comments can be used to explain how a piece of code or a specific part of code works, to temporarily deactivate a section of code, etc.\n",
        "\n",
        "There are two ways to add comments in code cells:\n",
        "\n",
        "- Using a pound sign \"#\"\n",
        "- Using triple quotes \"\"\" comment \"\"\""
      ]
    },
    {
      "cell_type": "code",
      "metadata": {
        "id": "4_dJExqv69E9",
        "colab": {
          "base_uri": "https://localhost:8080/"
        },
        "outputId": "44ece434-67d1-4509-e2d0-3bdc3df0b784"
      },
      "source": [
        "# First part of code\n",
        "msg = \"This is the Artificial Intelligence class :D\"\n",
        "print(msg)"
      ],
      "execution_count": null,
      "outputs": [
        {
          "output_type": "stream",
          "name": "stdout",
          "text": [
            "This is the Artificial Intelligence class :D\n"
          ]
        }
      ]
    },
    {
      "cell_type": "code",
      "metadata": {
        "colab": {
          "base_uri": "https://localhost:8080/"
        },
        "id": "ffFsVpZmrCsb",
        "outputId": "969ad4f4-7bd4-439b-f56a-b36425994354"
      },
      "source": [
        "msg = \"This is the Artificial Intelligence class :D\" # My first string in Python\n",
        "print(msg)"
      ],
      "execution_count": null,
      "outputs": [
        {
          "output_type": "stream",
          "name": "stdout",
          "text": [
            "This is the Artificial Intelligence class :D\n"
          ]
        }
      ]
    },
    {
      "cell_type": "code",
      "metadata": {
        "colab": {
          "base_uri": "https://localhost:8080/"
        },
        "id": "bqTjMsJ_qbfW",
        "outputId": "7159ea90-44af-4511-ba7c-7f23ff385b94"
      },
      "source": [
        "\"\"\"\n",
        "Name: Daniel Lopez\n",
        "Class: Artificial Intelligence.\n",
        "Title: My first code in Python\n",
        "\"\"\"\n",
        "msg = \"This is the Artificial Intelligence class :D\"\n",
        "print(msg)"
      ],
      "execution_count": null,
      "outputs": [
        {
          "output_type": "stream",
          "name": "stdout",
          "text": [
            "This is the Artificial Intelligence class :D\n"
          ]
        }
      ]
    },
    {
      "cell_type": "markdown",
      "metadata": {
        "id": "Hm1uXWqM69ee"
      },
      "source": [
        "# **1.3 Variables**\n",
        "---\n",
        "In Python, variables assist us in storing data. One advantage in Python is that there is no need to declare variables before starting to use them; you just need to assign them a default value.\n"
      ]
    },
    {
      "cell_type": "code",
      "metadata": {
        "id": "xgauq_op7lvz",
        "colab": {
          "base_uri": "https://localhost:8080/"
        },
        "outputId": "972dda39-ea51-4152-f9b5-c5adcdeff63f"
      },
      "source": [
        "x = 10 # Integer\n",
        "y = \"Pancho\" # string\n",
        "z = False # boolean\n",
        "print(x)\n",
        "print(y)\n",
        "print(z)\n",
        "type(y)"
      ],
      "execution_count": null,
      "outputs": [
        {
          "output_type": "stream",
          "name": "stdout",
          "text": [
            "10\n",
            "Pancho\n",
            "False\n"
          ]
        },
        {
          "output_type": "execute_result",
          "data": {
            "text/plain": [
              "str"
            ]
          },
          "metadata": {},
          "execution_count": 24
        }
      ]
    },
    {
      "cell_type": "code",
      "metadata": {
        "colab": {
          "base_uri": "https://localhost:8080/"
        },
        "id": "RiYKwq2Xtfye",
        "outputId": "47b93f81-6f04-4116-b4bb-fdb086e34911"
      },
      "source": [
        "# Operations with variables.\n",
        "x = 5\n",
        "y = 4\n",
        "z = 22\n",
        "\n",
        "print(x + y + z)"
      ],
      "execution_count": null,
      "outputs": [
        {
          "output_type": "stream",
          "name": "stdout",
          "text": [
            "31\n"
          ]
        }
      ]
    },
    {
      "cell_type": "code",
      "source": [
        "# Concatenate strings\n",
        "x = \"Daniel\"\n",
        "y = \"Lopez\"\n",
        "print(x + \" \" + y)"
      ],
      "metadata": {
        "colab": {
          "base_uri": "https://localhost:8080/"
        },
        "id": "jNt1fTK9AyBw",
        "outputId": "7b578da4-7fa5-45fe-e27d-bf8845d02996"
      },
      "execution_count": null,
      "outputs": [
        {
          "output_type": "stream",
          "name": "stdout",
          "text": [
            "Daniel Lopez\n"
          ]
        }
      ]
    },
    {
      "cell_type": "markdown",
      "metadata": {
        "id": "q2szQfZe7mFG"
      },
      "source": [
        "# **1.4 Data types**\n",
        "---\n",
        "There are different data types in Python, but we will focus on:\n",
        "\n",
        "- Text: `str`\n",
        "- Numeric: `int`, `float`, `complex`\n",
        "- Sequential: `list`, `tuple`\n",
        "- Boolean: `bool`\n",
        "\n",
        "\n"
      ]
    },
    {
      "cell_type": "code",
      "metadata": {
        "id": "VkUZsRDq7ohu"
      },
      "source": [
        "# Data types examples\n",
        "\n",
        "x = \"hola Mundo\" # str\n",
        "y = 5 # int\n",
        "z = 65.47 # float\n",
        "s = 1j # complex\n",
        "a = ['apple', 'bananna', 'orange'] # list\n",
        "b = ('apple', 'bananna', 'orange') # tuple\n",
        "c = True #boolean\n"
      ],
      "execution_count": null,
      "outputs": []
    },
    {
      "cell_type": "markdown",
      "metadata": {
        "id": "10Ycd_d9tIfu"
      },
      "source": [
        "Data types can be converted from one to another:\n",
        "\n",
        "- `x = str(3)`\n",
        "- `y = int(3)`\n",
        "- `z = float(3)`\n",
        "\n",
        "You can also check the data type contained in a variable using `type`."
      ]
    },
    {
      "cell_type": "code",
      "metadata": {
        "colab": {
          "base_uri": "https://localhost:8080/"
        },
        "id": "RvPlTgsgIOqu",
        "outputId": "79bd154c-703a-43f4-afbc-e1ab3c44641e"
      },
      "source": [
        "# A data type can be converted in other data types.\n",
        "x = str(3)\n",
        "y = int(3)\n",
        "z = float(3)\n",
        "\n",
        "print(x)\n",
        "print(y)\n",
        "print(z)\n",
        "\n",
        "# Verify the data type with \"type\".\n",
        "print(type(x))\n",
        "print(type(y))\n",
        "print(type(z))"
      ],
      "execution_count": null,
      "outputs": [
        {
          "output_type": "stream",
          "name": "stdout",
          "text": [
            "3\n",
            "3\n",
            "3.0\n",
            "<class 'str'>\n",
            "<class 'int'>\n",
            "<class 'float'>\n"
          ]
        }
      ]
    },
    {
      "cell_type": "markdown",
      "metadata": {
        "id": "hELgQWRP7ow-"
      },
      "source": [
        "## 1.4.1 Numbers\n",
        "\n",
        "As mentioned earlier, there are three types of numeric data:\n",
        "\n",
        "*  Integers\n",
        "*  Floats\n",
        "*  Complex numbers\n",
        "\n",
        "The integer (*int*) is a number without decimals, a whole number, negative or positive.\n",
        "\n",
        "The float (*float*) is a number that contains one or more decimals, and it can have a positive or negative sign.\n",
        "\n",
        "The complex number (*complex*) is a number with a real part and an imaginary part. The imaginary part is denoted by the letter \"j\".\n"
      ]
    },
    {
      "cell_type": "code",
      "metadata": {
        "id": "m3cr5RPs7xWQ",
        "colab": {
          "base_uri": "https://localhost:8080/"
        },
        "outputId": "97e8636c-7af5-466a-cf45-616b1d41eaae"
      },
      "source": [
        "x = 1    # int\n",
        "y = 2.8  # float\n",
        "z = 1j   # complex\n",
        "\n",
        "#convert from int to float:\n",
        "a = float(x)\n",
        "\n",
        "#convert from float to int:\n",
        "b = int(y)\n",
        "\n",
        "#convert from int to complex:\n",
        "c = complex(x)\n",
        "\n",
        "print(a)\n",
        "print(b)\n",
        "print(c)\n",
        "\n",
        "print(type(a))\n",
        "print(type(b))\n",
        "print(type(c))"
      ],
      "execution_count": null,
      "outputs": [
        {
          "output_type": "stream",
          "name": "stdout",
          "text": [
            "1.0\n",
            "2\n",
            "(1+0j)\n",
            "<class 'float'>\n",
            "<class 'int'>\n",
            "<class 'complex'>\n"
          ]
        }
      ]
    },
    {
      "cell_type": "markdown",
      "metadata": {
        "id": "tEnvQjWk7x7v"
      },
      "source": [
        "## 1.4.2 Strings\n",
        "\n",
        "A string of characters can be enclosed in either single or double quotation marks."
      ]
    },
    {
      "cell_type": "code",
      "metadata": {
        "id": "uFq5V5iM8AbZ",
        "colab": {
          "base_uri": "https://localhost:8080/"
        },
        "outputId": "2aedd8a5-b83f-4294-8d6f-ec9db606bd94"
      },
      "source": [
        "a = \"hello!\"\n",
        "b = 'hello!'\n",
        "\n",
        "print(a)\n",
        "print(b)"
      ],
      "execution_count": null,
      "outputs": [
        {
          "output_type": "stream",
          "name": "stdout",
          "text": [
            "hello!\n",
            "hello!\n"
          ]
        }
      ]
    },
    {
      "cell_type": "code",
      "metadata": {
        "id": "1a-8qMelmR2A",
        "colab": {
          "base_uri": "https://localhost:8080/"
        },
        "outputId": "64c455bf-8e07-4e33-db75-adc49e106b29"
      },
      "source": [
        "# multiline strings\n",
        "a = \"\"\"Lorem ipsum dolor sit amet,\n",
        "consectetur adipiscing elit,\n",
        "sed do eiusmod tempor incididunt\n",
        "ut labore et dolore magna aliqua.\"\"\"\n",
        "print(a)"
      ],
      "execution_count": null,
      "outputs": [
        {
          "output_type": "stream",
          "name": "stdout",
          "text": [
            "Lorem ipsum dolor sit amet,\n",
            "consectetur adipiscing elit,\n",
            "sed do eiusmod tempor incididunt\n",
            "ut labore et dolore magna aliqua.\n"
          ]
        }
      ]
    },
    {
      "cell_type": "markdown",
      "metadata": {
        "id": "eXS9MslYm_-4"
      },
      "source": [
        "The `len()` function provides us with the length of a string of characters."
      ]
    },
    {
      "cell_type": "code",
      "metadata": {
        "colab": {
          "base_uri": "https://localhost:8080/"
        },
        "id": "nUY5ohM-nHea",
        "outputId": "38d23a24-e32b-484c-a322-568c03435a7b"
      },
      "source": [
        "a = \"¡La pizza de Don Cangrejo es la mejor! \"\n",
        "print(len(a))"
      ],
      "execution_count": null,
      "outputs": [
        {
          "output_type": "stream",
          "name": "stdout",
          "text": [
            "39\n"
          ]
        }
      ]
    },
    {
      "cell_type": "markdown",
      "metadata": {
        "id": "7lAjYbZqoLie"
      },
      "source": [
        "To join or concatenate two strings, you can use the `+` operator."
      ]
    },
    {
      "cell_type": "code",
      "metadata": {
        "colab": {
          "base_uri": "https://localhost:8080/"
        },
        "id": "xFo9b0ivoTru",
        "outputId": "7a9fa078-e7c5-4243-a64c-db3624eb48dd"
      },
      "source": [
        "a = \"My name is: \"\n",
        "b = \"Daniel\"\n",
        "c = a + b\n",
        "print(c)"
      ],
      "execution_count": null,
      "outputs": [
        {
          "output_type": "stream",
          "name": "stdout",
          "text": [
            "My name is: Daniel\n"
          ]
        }
      ]
    },
    {
      "cell_type": "markdown",
      "metadata": {
        "id": "2jU2PRh38KTn"
      },
      "source": [
        "## 1.4.3 Booleans\n",
        "\n",
        "In programming, sometimes we need to determine whether an expression is true or false, `True` or `False`, respectively."
      ]
    },
    {
      "cell_type": "code",
      "metadata": {
        "id": "qaVGC7598Ooq",
        "colab": {
          "base_uri": "https://localhost:8080/"
        },
        "outputId": "70cf9c92-d5a0-449c-e842-cd5cf8f67ce5"
      },
      "source": [
        "# Expressions to be evaluated.\n",
        "\n",
        "print(10 > 9)\n",
        "print(10 == 9)\n",
        "print(10 < 9)\n"
      ],
      "execution_count": null,
      "outputs": [
        {
          "output_type": "stream",
          "name": "stdout",
          "text": [
            "True\n",
            "False\n",
            "False\n"
          ]
        }
      ]
    },
    {
      "cell_type": "markdown",
      "metadata": {
        "id": "Yfe0p9e58PNN"
      },
      "source": [
        "# **1.5 Operators**\n",
        "---\n",
        "Operators are used to perform operations with values and variables.\n",
        "\n",
        "The main operators are:\n",
        "\n",
        "- Arithmetic\n",
        "- Assignment\n",
        "- Comparison\n",
        "- Logical"
      ]
    },
    {
      "cell_type": "code",
      "metadata": {
        "id": "x2wIbRF_8dpT",
        "colab": {
          "base_uri": "https://localhost:8080/"
        },
        "outputId": "095b673c-a769-4e92-d9d1-274095082392"
      },
      "source": [
        "print(21 + 2)"
      ],
      "execution_count": null,
      "outputs": [
        {
          "output_type": "stream",
          "name": "stdout",
          "text": [
            "23\n"
          ]
        }
      ]
    },
    {
      "cell_type": "markdown",
      "metadata": {
        "id": "a6U_RYhXsN-6"
      },
      "source": [
        "## 1.5.1 Arithmetic\n",
        "\n",
        "- Addition:  `+` , `x + y`\n",
        "- Subtraction: `-` , `x - y`\n",
        "- Multiplication: `*` , `x * y`\n",
        "- Division: `/` , `x / y`\n",
        "- Module: `%`, `x % y`\n",
        "- Exponential: `**`, `x ** y`\n",
        "\n",
        "## 1.5.2 Allocation\n",
        "\n",
        "- `=` ,  `x = 5` , `x = 5`\n",
        "- `+=` , `x += 3`, `x = x + 3`\n",
        "- `-=` , `x -= 3`, `x = x - 3`\n",
        "- `*=` , `x *= 3`, `x = x * 3`\n",
        "- `/=` , `x /= 3`, `x = x / 3`\n",
        "\n",
        "## 1.5.3 Comparison\n",
        "\n",
        "- Equal: `==` , `x == y`\n",
        "- Different from: `!=` , `x != y`\n",
        "- Greater than: `>` , `x > y`\n",
        "- Smaller than: `<` , `x < y`\n",
        "- Greater than or equal: `>=` , `x >= y`\n",
        "- Smaller than or equal: `<=` , `x <= y`\n",
        "\n",
        "## 1.5.4 Logical\n",
        "\n",
        "- `and`: returns `True` if both expressions are true.\n",
        "\n",
        "    `x < 5 and x < 10`\n",
        "\n",
        "- `or`: returns `True` if one of the expressions is true.\n",
        "\n",
        "    `x < 5 or x < 4`\n",
        "\n",
        "- `not`: returns `False` if the result is `True`.\n",
        "\n",
        "    `not (5 < 4)`"
      ]
    },
    {
      "cell_type": "markdown",
      "metadata": {
        "id": "O2lN1OYA-iR_"
      },
      "source": [
        "\n",
        "\n",
        "---\n",
        "\n",
        "\n",
        "**M.Sc. Daniel López**\n",
        "\n",
        "**UA: Artificial Intelligence.**\n",
        "\n",
        "Sources:\n",
        "1. w3schools.com/python/default.asp\n",
        "2. codecademy.com\n",
        "3. Matthes, E. (2019). Python crash course: A hands-on, project-based introduction to programming. no starch press.\n"
      ]
    }
  ]
}