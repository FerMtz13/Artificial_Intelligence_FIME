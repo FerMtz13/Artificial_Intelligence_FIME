{
  "nbformat": 4,
  "nbformat_minor": 0,
  "metadata": {
    "colab": {
      "provenance": []
    },
    "kernelspec": {
      "name": "python3",
      "display_name": "Python 3"
    },
    "language_info": {
      "name": "python"
    }
  },
  "cells": [
    {
      "cell_type": "markdown",
      "metadata": {
        "id": "nz1jJLb0tJr5"
      },
      "source": [
        "# **2.- Arrays or Collections in Python**\n",
        "\n",
        "---\n",
        "\n",
        "\n",
        "There are four types of data type collections in Python:\n",
        "\n",
        "- *List*: It is an ordered and changeable collection.\n",
        "- *Tuple*: It is an ordered collection but cannot be changed.\n",
        "- *Set*: It is an unordered and unindexed collection.\n",
        "- *Dictionary*: It is an ordered and changeable collection.\n",
        "\n",
        "For the purposes of this subject, we will focus on lists and tuples.\n",
        "\n"
      ]
    },
    {
      "cell_type": "markdown",
      "metadata": {
        "id": "i-7GTkLD8jYr"
      },
      "source": [
        "# **2.1 Lists**\n",
        "\n",
        "---\n",
        "\n",
        "Lists are used to store multiple elements in a single variable; they are declared using square brackets.\n",
        "Lists have an order, can be changed, and allow duplicate values; their elements are indexed, where the first element has the index `[0]`, the second element has the index `[1]`, and so on.\n"
      ]
    },
    {
      "cell_type": "code",
      "metadata": {
        "id": "THTjA_mP8gYC",
        "colab": {
          "base_uri": "https://localhost:8080/"
        },
        "outputId": "e953e069-5926-4849-adb7-b6bbb32a1001"
      },
      "source": [
        "# This is a list\n",
        "lalista = [\"apple\", \"banana\", \"cherry\"]\n",
        "print(lalista)"
      ],
      "execution_count": null,
      "outputs": [
        {
          "output_type": "stream",
          "name": "stdout",
          "text": [
            "['apple', 'banana', 'cherry']\n"
          ]
        }
      ]
    },
    {
      "cell_type": "code",
      "metadata": {
        "colab": {
          "base_uri": "https://localhost:8080/"
        },
        "id": "MiIIa13AshgR",
        "outputId": "71501d98-0bd2-4b7b-df92-a7659a65fb79"
      },
      "source": [
        "# Duplicate values in a list\n",
        "thislist = [\"apple\", \"banana\", \"cherry\", \"apple\", \"cherry\"]\n",
        "print(thislist)"
      ],
      "execution_count": null,
      "outputs": [
        {
          "output_type": "stream",
          "name": "stdout",
          "text": [
            "['apple', 'banana', 'cherry', 'apple', 'cherry']\n"
          ]
        }
      ]
    },
    {
      "cell_type": "code",
      "metadata": {
        "colab": {
          "base_uri": "https://localhost:8080/"
        },
        "id": "UGmvc51jsqTY",
        "outputId": "4c953ca4-5934-402f-9460-20189de2f3fd"
      },
      "source": [
        "# Length of a list\n",
        "thislist = [\"apple\", \"banana\", \"cherry\"]\n",
        "print(len(thislist))"
      ],
      "execution_count": null,
      "outputs": [
        {
          "output_type": "stream",
          "name": "stdout",
          "text": [
            "3\n"
          ]
        }
      ]
    },
    {
      "cell_type": "code",
      "metadata": {
        "colab": {
          "base_uri": "https://localhost:8080/"
        },
        "id": "yuM3_5Acs8NQ",
        "outputId": "e15a025c-e910-4e48-d5c8-8f60e9a8947d"
      },
      "source": [
        "# A list can contain different types of data.\n",
        "list1 = [\"abc\", 34, True, 40, \"male\"]\n",
        "print(list1)\n",
        "\n",
        "print(type(list1[-1]))"
      ],
      "execution_count": null,
      "outputs": [
        {
          "output_type": "stream",
          "name": "stdout",
          "text": [
            "['abc', 34, True, 40, 'male']\n",
            "<class 'str'>\n"
          ]
        }
      ]
    },
    {
      "cell_type": "markdown",
      "metadata": {
        "id": "JghTD9Zgua_C"
      },
      "source": [
        "Elements within a list are indexed, and they can be accessed through their **index**.\n",
        "\n",
        "In Python, the first element has an index of` 0`.\n",
        "\n",
        "There are also **negative indices**. In this case, counting starts from the last element in the list, going backwards to the first element. The index `-1` refers to the last element in the list, `-2` to the second-to-last element.\n",
        "\n",
        "You can also specify a **range of indices**, which results in a new list.\n",
        "\n",
        "This also applies to **tuples**.\n"
      ]
    },
    {
      "cell_type": "code",
      "metadata": {
        "colab": {
          "base_uri": "https://localhost:8080/"
        },
        "id": "dKGL2ltzt5dF",
        "outputId": "6de71f95-9583-4505-b569-ab5442fbb703"
      },
      "source": [
        "# Index\n",
        "thislist = [\"apple\", \"banana\", \"cherry\"]\n",
        "print(thislist[-1])"
      ],
      "execution_count": null,
      "outputs": [
        {
          "output_type": "stream",
          "name": "stdout",
          "text": [
            "cherry\n"
          ]
        }
      ]
    },
    {
      "cell_type": "code",
      "metadata": {
        "colab": {
          "base_uri": "https://localhost:8080/"
        },
        "id": "RVeURhMZz761",
        "outputId": "14f64392-9fde-40d6-8f3a-2186c7cc0aa4"
      },
      "source": [
        "# Negative index\n",
        "thislist = [\"apple\", \"banana\", \"cherry\"]\n",
        "print(thislist[-2])"
      ],
      "execution_count": null,
      "outputs": [
        {
          "output_type": "stream",
          "name": "stdout",
          "text": [
            "banana\n"
          ]
        }
      ]
    },
    {
      "cell_type": "code",
      "metadata": {
        "colab": {
          "base_uri": "https://localhost:8080/"
        },
        "id": "PacZZ7H_0kCU",
        "outputId": "eff3a9c9-ef6f-44db-91e6-0d8860f820be"
      },
      "source": [
        "# Range of index.\n",
        "thislist = [\"apple\", \"banana\", \"cherry\", \"orange\", \"kiwi\", \"melon\", \"mango\"]\n",
        "print(thislist[2:5])"
      ],
      "execution_count": null,
      "outputs": [
        {
          "output_type": "stream",
          "name": "stdout",
          "text": [
            "['cherry', 'orange', 'kiwi']\n"
          ]
        }
      ]
    },
    {
      "cell_type": "code",
      "metadata": {
        "colab": {
          "base_uri": "https://localhost:8080/"
        },
        "id": "tf1qzVPY0zak",
        "outputId": "ed82825e-e1db-444a-e388-f3d7dd1913e2"
      },
      "source": [
        "# Other use for range.\n",
        "thislist = [\"apple\", \"banana\", \"cherry\", \"orange\", \"kiwi\", \"melon\", \"mango\"]\n",
        "print(thislist[:4])"
      ],
      "execution_count": null,
      "outputs": [
        {
          "output_type": "stream",
          "name": "stdout",
          "text": [
            "['apple', 'banana', 'cherry', 'orange']\n"
          ]
        }
      ]
    },
    {
      "cell_type": "code",
      "metadata": {
        "colab": {
          "base_uri": "https://localhost:8080/"
        },
        "id": "H_rnSSIn1t28",
        "outputId": "0494b8cb-bf13-47f4-f67a-a63358367e58"
      },
      "source": [
        "# Other use for range.\n",
        "thislist = [\"apple\", \"banana\", \"cherry\", \"orange\", \"kiwi\", \"melon\", \"mango\"]\n",
        "print(thislist[2:])"
      ],
      "execution_count": null,
      "outputs": [
        {
          "output_type": "stream",
          "name": "stdout",
          "text": [
            "['cherry', 'orange', 'kiwi', 'melon', 'mango']\n"
          ]
        }
      ]
    },
    {
      "cell_type": "markdown",
      "metadata": {
        "id": "RXMqFCEA8mzw"
      },
      "source": [
        "# **2.2 Tuples**\n",
        "\n",
        "---\n",
        "Tuples are also used to store multiple elements in a single variable; they are declared using parentheses.\n",
        "\n",
        "A tuple is an ordered collection, but it cannot be changed. Duplicate values are allowed.\n",
        "\n",
        "Just like with lists, the same rules and syntax regarding indices can be applied to tuples.\n",
        "\n",
        "\n",
        "\n"
      ]
    },
    {
      "cell_type": "code",
      "metadata": {
        "id": "6BsSc3f58p6V",
        "colab": {
          "base_uri": "https://localhost:8080/"
        },
        "outputId": "4012376b-c3f4-4f89-ce75-d95e1d6aaf38"
      },
      "source": [
        "# Tuple example\n",
        "thistuple = (\"apple\", \"banana\", \"cherry\")\n",
        "print(thistuple)"
      ],
      "execution_count": null,
      "outputs": [
        {
          "output_type": "stream",
          "name": "stdout",
          "text": [
            "('apple', 'banana', 'cherry')\n"
          ]
        }
      ]
    },
    {
      "cell_type": "code",
      "metadata": {
        "colab": {
          "base_uri": "https://localhost:8080/"
        },
        "id": "B_9Z2skF4Tg4",
        "outputId": "ad5c76d2-8ec4-4f89-9d58-a078615806d8"
      },
      "source": [
        "# Duplicates in a tuple.\n",
        "thistuple = (\"apple\", \"banana\", \"cherry\", \"apple\", \"cherry\")\n",
        "print(thistuple)"
      ],
      "execution_count": null,
      "outputs": [
        {
          "output_type": "stream",
          "name": "stdout",
          "text": [
            "('apple', 'banana', 'cherry', 'apple', 'cherry')\n"
          ]
        }
      ]
    },
    {
      "cell_type": "code",
      "metadata": {
        "colab": {
          "base_uri": "https://localhost:8080/"
        },
        "id": "dZgzf5m164LJ",
        "outputId": "56b35cca-fca1-412e-a479-0a7044173559"
      },
      "source": [
        "# Tuple length\n",
        "thistuple = (\"apple\", \"banana\", \"cherry\")\n",
        "print(len(thistuple))"
      ],
      "execution_count": null,
      "outputs": [
        {
          "output_type": "stream",
          "name": "stdout",
          "text": [
            "3\n"
          ]
        }
      ]
    },
    {
      "cell_type": "code",
      "metadata": {
        "colab": {
          "base_uri": "https://localhost:8080/"
        },
        "id": "m-YItB5W7A7L",
        "outputId": "be7322b9-bf3c-4e59-c48a-3ecae0faba12"
      },
      "source": [
        "# A tuple can also store different types of data.\n",
        "tuple1 = (\"abc\", 34, True, 40, \"male\")\n",
        "print(tuple1)\n",
        "print(type(tuple1[-1]))"
      ],
      "execution_count": null,
      "outputs": [
        {
          "output_type": "stream",
          "name": "stdout",
          "text": [
            "('abc', 34, True, 40, 'male')\n",
            "<class 'str'>\n"
          ]
        }
      ]
    },
    {
      "cell_type": "code",
      "metadata": {
        "colab": {
          "base_uri": "https://localhost:8080/"
        },
        "id": "dqoqLYkp7LAm",
        "outputId": "f7d880ff-eeb5-4e1e-b6b6-3b1e2f4125c8"
      },
      "source": [
        "# Index in a tuple\n",
        "thistuple = (\"apple\", \"banana\", \"cherry\")\n",
        "print(thistuple[1])\n",
        "\n",
        "# Negative index\n",
        "thistuple2 = (\"apple\", \"banana\", \"cherry\")\n",
        "print(thistuple2[-1])\n",
        "\n",
        "# Index range\n",
        "thistuple3 = (\"apple\", \"banana\", \"cherry\", \"orange\", \"kiwi\", \"melon\", \"mango\")\n",
        "print(thistuple3[:2])"
      ],
      "execution_count": null,
      "outputs": [
        {
          "output_type": "stream",
          "name": "stdout",
          "text": [
            "banana\n",
            "cherry\n",
            "('apple', 'banana')\n"
          ]
        }
      ]
    },
    {
      "cell_type": "markdown",
      "metadata": {
        "id": "KL0uj4mXJzkE"
      },
      "source": [
        "# **2.3 Index**\n",
        "\n",
        "Within lists and tuples, each of their elements has a position defined by an index. This way, you can access each of them and use or modify them.\n",
        "\n",
        "This characteristic is very useful when working with these data sets and in conditionals, for loops, and while loops.\n",
        "\n",
        "As previously explained, in Python, the first element has an index of `0`, you can select ranges of elements with the structure `[2:5]`, and negative indices, e.g., `[-1`], can be used to select an element from the list or tuple starting from the last position."
      ]
    },
    {
      "cell_type": "code",
      "metadata": {
        "id": "cc5l61fwKBXG"
      },
      "source": [
        "# See tuples and lists examples."
      ],
      "execution_count": null,
      "outputs": []
    },
    {
      "cell_type": "markdown",
      "metadata": {
        "id": "9UAGoQTn8sx4"
      },
      "source": [
        "# **2.4 If...Else**\n",
        "---\n",
        "A conditional evaluates an expression; depending on the result of the evaluation, an action can be performed or not. To evaluate expressions, comparison operators can be used.\n",
        "\n",
        "*Comparison operators.*\n",
        "- Equal: `==` , `x == y`\n",
        "- Different from: `!=` , `x != y`\n",
        "- Greater than: `>` , `x > y`\n",
        "- Smaller than: `<` , `x < y`\n",
        "- Greater than or equal: `>=` , `x >= y`\n",
        "- Less than or equal to: `<=` , `x <= y`\n",
        "\n",
        "In Python, a simple conditional starts with an `if`. You can also use an `elif` to evaluate one or more additional expressions within the same conditional. With an `else`, we can perform an action in case none of the previous conditions have been met."
      ]
    },
    {
      "cell_type": "code",
      "metadata": {
        "colab": {
          "base_uri": "https://localhost:8080/"
        },
        "id": "4DLVwZKF__NX",
        "outputId": "f5fb092e-8f91-479e-bdf5-c887e478a186"
      },
      "source": [
        "# Indentation!\n",
        "a = 33\n",
        "b = 200\n",
        "\n",
        "if b > a:\n",
        "  z = a + b\n",
        "  print(z)\n",
        "\n",
        "if b > a:\n",
        "  print(\"b is greater than a\")"
      ],
      "execution_count": 1,
      "outputs": [
        {
          "output_type": "stream",
          "name": "stdout",
          "text": [
            "233\n",
            "b is greater than a\n"
          ]
        }
      ]
    },
    {
      "cell_type": "code",
      "metadata": {
        "id": "cl2ts-KhA7pL",
        "colab": {
          "base_uri": "https://localhost:8080/"
        },
        "outputId": "e10b683f-02b4-4016-ae8b-cbc7d29c44e8"
      },
      "source": [
        "# Elif\n",
        "a = 33\n",
        "b = 33\n",
        "\n",
        "if b > a:\n",
        "  print(\"b is greater than a\")\n",
        "elif a == b:\n",
        "  print(\"a and b are equal\")"
      ],
      "execution_count": 2,
      "outputs": [
        {
          "output_type": "stream",
          "name": "stdout",
          "text": [
            "a and b are equal\n"
          ]
        }
      ]
    },
    {
      "cell_type": "code",
      "metadata": {
        "id": "qbMTuLW_8x7w",
        "colab": {
          "base_uri": "https://localhost:8080/"
        },
        "outputId": "55b903ac-43cb-4e5a-a569-d86c7b8401df"
      },
      "source": [
        "# Else\n",
        "a = 33\n",
        "b = 66\n",
        "\n",
        "if b < a:\n",
        "  print(\"b is greater than a\")\n",
        "elif a == b:\n",
        "  print(\"a and b are equal\")\n",
        "elif a + a == b:\n",
        "  print(\"b is 2 times a\")\n",
        "else:\n",
        "  print(\"a is greater than b\")"
      ],
      "execution_count": 3,
      "outputs": [
        {
          "output_type": "stream",
          "name": "stdout",
          "text": [
            "b is 2 times a\n"
          ]
        }
      ]
    },
    {
      "cell_type": "code",
      "metadata": {
        "colab": {
          "base_uri": "https://localhost:8080/"
        },
        "id": "7KX194R7BfHW",
        "outputId": "d94f19a5-0127-40a4-ba34-1ebf0161394b"
      },
      "source": [
        "# Logical operators \"and\", \"or\" y \"not\".\n",
        "a = 200\n",
        "b = 200\n",
        "c = 50\n",
        "\n",
        "if a > b and c > a or a == b:\n",
        "  print(\":D\")\n",
        "\n",
        "a = 200\n",
        "b = 33\n",
        "c = 500\n",
        "\n",
        "if a > b or a > c:\n",
        "  print(\"At least one of the conditions is True\")"
      ],
      "execution_count": 4,
      "outputs": [
        {
          "output_type": "stream",
          "name": "stdout",
          "text": [
            ":D\n",
            "At least one of the conditions is True\n"
          ]
        }
      ]
    },
    {
      "cell_type": "code",
      "metadata": {
        "id": "9lT3A2Q2Bxii"
      },
      "source": [
        "# Nested Ifs.\n",
        "\n",
        "x = 9\n",
        "\n",
        "if x > 10:\n",
        "  print(\"Above ten,\")\n",
        "  if x > 20:\n",
        "    print(\"Above ten,\" + \" and also above 20!\")\n",
        "  else:\n",
        "    print(\"Above ten,\" + \"but not above 20.\")"
      ],
      "execution_count": 5,
      "outputs": []
    },
    {
      "cell_type": "markdown",
      "metadata": {
        "id": "7OdWFQ8P8yLu"
      },
      "source": [
        "# **2.5 For Loops**\n",
        "\n",
        "---\n",
        "A `for` loop is used to iterate over a collection of data or a sequence, e.g. lists and tuples. For each of the iterations, a specific action can be performed."
      ]
    },
    {
      "cell_type": "code",
      "metadata": {
        "id": "_bgn20Zy81YP",
        "colab": {
          "base_uri": "https://localhost:8080/"
        },
        "outputId": "a6e3b003-52b9-4da0-ec59-2d97e21e3b18"
      },
      "source": [
        "fruits = [\"apple\", \"banana\", \"cherry\"]\n",
        "\n",
        "for x in fruits:\n",
        "  print(x)"
      ],
      "execution_count": 6,
      "outputs": [
        {
          "output_type": "stream",
          "name": "stdout",
          "text": [
            "apple\n",
            "banana\n",
            "cherry\n"
          ]
        }
      ]
    },
    {
      "cell_type": "code",
      "metadata": {
        "colab": {
          "base_uri": "https://localhost:8080/"
        },
        "id": "_DPp1EJMDQ3D",
        "outputId": "25708a59-eb97-4b71-cb18-001342577b21"
      },
      "source": [
        "# For on a string\n",
        "\n",
        "for x in \"banana\":\n",
        "  print(x)"
      ],
      "execution_count": 14,
      "outputs": [
        {
          "output_type": "stream",
          "name": "stdout",
          "text": [
            "b\n",
            "a\n",
            "n\n",
            "a\n",
            "n\n",
            "a\n"
          ]
        }
      ]
    },
    {
      "cell_type": "markdown",
      "metadata": {
        "id": "EwjtVVNglPTG"
      },
      "source": [
        "With the `range()` function, you can obtain a sequence of numbers, starting at 0, incrementing by 1 by default, and ending at a specific number."
      ]
    },
    {
      "cell_type": "code",
      "metadata": {
        "colab": {
          "base_uri": "https://localhost:8080/"
        },
        "id": "XBCGixTAlnMs",
        "outputId": "b9e536b7-7143-4223-c99d-c90d386dcc4e"
      },
      "source": [
        "# Range\n",
        "y = range(5)\n",
        "\n",
        "for x in y:\n",
        "  print(x)\n",
        "\n",
        "#print(y)"
      ],
      "execution_count": 8,
      "outputs": [
        {
          "output_type": "stream",
          "name": "stdout",
          "text": [
            "0\n",
            "1\n",
            "2\n",
            "3\n",
            "4\n"
          ]
        }
      ]
    },
    {
      "cell_type": "code",
      "metadata": {
        "colab": {
          "base_uri": "https://localhost:8080/"
        },
        "id": "lkXW5fAsl5Dp",
        "outputId": "bb721496-fcb3-45c2-ec3c-c5e115d5ee23"
      },
      "source": [
        "# We can be more specific with the start, end, and increment numbers.\n",
        "\n",
        "for x in range(2,31,2):\n",
        "  print(x)"
      ],
      "execution_count": 9,
      "outputs": [
        {
          "output_type": "stream",
          "name": "stdout",
          "text": [
            "2\n",
            "4\n",
            "6\n",
            "8\n",
            "10\n",
            "12\n",
            "14\n",
            "16\n",
            "18\n",
            "20\n",
            "22\n",
            "24\n",
            "26\n",
            "28\n",
            "30\n"
          ]
        }
      ]
    },
    {
      "cell_type": "code",
      "metadata": {
        "colab": {
          "base_uri": "https://localhost:8080/"
        },
        "id": "TDUQ1MxbmORZ",
        "outputId": "a2a86cd7-b448-4387-da58-182024300308"
      },
      "source": [
        "# \"Else\" on a \"for\" cycle.\n",
        "for x in range(3):\n",
        "  print(x)\n",
        "else:\n",
        "  print(\"Finally finished!\")"
      ],
      "execution_count": 10,
      "outputs": [
        {
          "output_type": "stream",
          "name": "stdout",
          "text": [
            "0\n",
            "1\n",
            "2\n",
            "Finally finished!\n"
          ]
        }
      ]
    },
    {
      "cell_type": "code",
      "metadata": {
        "colab": {
          "base_uri": "https://localhost:8080/"
        },
        "id": "kgtUzrrhmmnR",
        "outputId": "c4bb3c68-eadd-4c64-ee50-356c98355193"
      },
      "source": [
        "# \"break\" to interrupt a cycle.\n",
        "for x in range(6):\n",
        "  if x == 6:\n",
        "    print(\"Error!\")\n",
        "    break\n",
        "  print(x)\n",
        "else:\n",
        "  print(\"Finally finished!\")"
      ],
      "execution_count": 11,
      "outputs": [
        {
          "output_type": "stream",
          "name": "stdout",
          "text": [
            "0\n",
            "1\n",
            "2\n",
            "3\n",
            "4\n",
            "5\n",
            "Finally finished!\n"
          ]
        }
      ]
    },
    {
      "cell_type": "code",
      "metadata": {
        "colab": {
          "base_uri": "https://localhost:8080/"
        },
        "id": "1sk8Lfl1m86C",
        "outputId": "1426d61f-111a-4bd4-a372-37f8a1b7f12c"
      },
      "source": [
        "# Nested for.\n",
        "\n",
        "adj = [\"red\", \"big\", \"tasty\"]\n",
        "fruits = [\"apple\", \"banana\", \"cherry\"]\n",
        "\n",
        "for x in adj:\n",
        "  for y in fruits:\n",
        "    print(x, y)"
      ],
      "execution_count": 12,
      "outputs": [
        {
          "output_type": "stream",
          "name": "stdout",
          "text": [
            "red apple\n",
            "red banana\n",
            "red cherry\n",
            "big apple\n",
            "big banana\n",
            "big cherry\n",
            "tasty apple\n",
            "tasty banana\n",
            "tasty cherry\n"
          ]
        }
      ]
    },
    {
      "cell_type": "markdown",
      "metadata": {
        "id": "1t2EdsHm81eq"
      },
      "source": [
        "# **2.6 While Loops**\n",
        "\n",
        "---\n",
        "Another type of loop is `while`. The characteristic of this loop is that it continues executing while a condition remains true.\n",
        "\n",
        "\n"
      ]
    },
    {
      "cell_type": "code",
      "metadata": {
        "colab": {
          "base_uri": "https://localhost:8080/"
        },
        "id": "YvIqD6onpJ2d",
        "outputId": "f8619b72-1f4f-4633-f81a-efa8c31461e1"
      },
      "source": [
        "# While loop syntax.\n",
        "\n",
        "i = 1\n",
        "\n",
        "while i < 6:\n",
        "  print(i)\n",
        "  i += 1  # i = i + 1"
      ],
      "execution_count": 13,
      "outputs": [
        {
          "output_type": "stream",
          "name": "stdout",
          "text": [
            "1\n",
            "2\n",
            "3\n",
            "4\n",
            "5\n"
          ]
        }
      ]
    },
    {
      "cell_type": "code",
      "metadata": {
        "id": "3PGfi11D87A7",
        "colab": {
          "base_uri": "https://localhost:8080/"
        },
        "outputId": "b9d6507a-bd94-495d-d991-a90d66fd29f6"
      },
      "source": [
        "# \"break\" on a while loop\n",
        "\n",
        "i = 1\n",
        "\n",
        "while i < 6:\n",
        "  print(i)\n",
        "  if i == 8:\n",
        "    print(\"Error!\")\n",
        "    break\n",
        "  i += 1\n",
        "else:\n",
        "  print(\"se terminó el ciclo while\")"
      ],
      "execution_count": null,
      "outputs": [
        {
          "output_type": "stream",
          "name": "stdout",
          "text": [
            "1\n",
            "2\n",
            "3\n",
            "4\n",
            "5\n",
            "se terminó el ciclo while\n"
          ]
        }
      ]
    },
    {
      "cell_type": "markdown",
      "metadata": {
        "id": "Gz4BEf2Qu_gr"
      },
      "source": [
        "# **2.7 Input Function**\n",
        "\n",
        "---\n",
        "\n",
        "The `input()` function halts the program's execution and waits for the user to provide some form of input data.\n"
      ]
    },
    {
      "cell_type": "code",
      "metadata": {
        "colab": {
          "base_uri": "https://localhost:8080/"
        },
        "id": "_D3m5idIvTLn",
        "outputId": "c96526cb-7c39-4177-c923-12bcf1a06820"
      },
      "source": [
        "# Program \"parrot\".\n",
        "\n",
        "message = input(\"Tell me something and I will repeat it: \")\n",
        "print(message)"
      ],
      "execution_count": 15,
      "outputs": [
        {
          "output_type": "stream",
          "name": "stdout",
          "text": [
            "Tell me something and I will repeat it: Hola\n",
            "Hola\n"
          ]
        }
      ]
    },
    {
      "cell_type": "markdown",
      "metadata": {
        "id": "MfqzkX74Pacr"
      },
      "source": [
        "---\n",
        "**M.Sc. Daniel López**\n",
        "\n",
        "**UA: Artificial Intelligence.**\n",
        "\n",
        "Sources:\n",
        "1. w3schools.com/python/default.asp\n",
        "2. codecademy.com\n",
        "3. Matthes, E. (2019). Python crash course: A hands-on, project-based introduction to programming. no starch press.\n"
      ]
    }
  ]
}