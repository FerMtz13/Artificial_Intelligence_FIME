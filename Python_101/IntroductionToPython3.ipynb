{
  "nbformat": 4,
  "nbformat_minor": 0,
  "metadata": {
    "colab": {
      "provenance": []
    },
    "kernelspec": {
      "name": "python3",
      "display_name": "Python 3"
    },
    "language_info": {
      "name": "python"
    }
  },
  "cells": [
    {
      "cell_type": "markdown",
      "metadata": {
        "id": "MKCdCm3o8-Qw"
      },
      "source": [
        "# **3.1 Functions**\n",
        "\n",
        "---\n",
        "Functions help us group one or multiple instructions into a code block and subsequently execute them as many times as we want.\n",
        "\n",
        "A function is a block of code that only runs when it's called. A function can take data, known as parameters. A function can also return data as a result.\n",
        "\n",
        "To create a function in Python, you can use the keyword `def` with a specific syntax.\n",
        "\n",
        "Arguments are the information provided as input to the function. The function can use arguments to produce a specific result. You can add as many arguments as needed, always separated by commas."
      ]
    },
    {
      "cell_type": "code",
      "metadata": {
        "id": "K78fL5Mr8888"
      },
      "source": [
        "# Function in Python.\n",
        "def my_function():\n",
        "  print(\"Hello from a function\")"
      ],
      "execution_count": 1,
      "outputs": []
    },
    {
      "cell_type": "code",
      "metadata": {
        "colab": {
          "base_uri": "https://localhost:8080/"
        },
        "id": "q9nLfvbA8ctp",
        "outputId": "53ce8d4f-971e-48cd-9aeb-28a2da2b2ab6"
      },
      "source": [
        "# To use the function:\n",
        "my_function()"
      ],
      "execution_count": 2,
      "outputs": [
        {
          "output_type": "stream",
          "name": "stdout",
          "text": [
            "Hello from a function\n"
          ]
        }
      ]
    },
    {
      "cell_type": "code",
      "metadata": {
        "id": "hsLyDsTp-13i"
      },
      "source": [
        "# fname = parameter\n",
        "# \"Emil\", \"Tobias\" and \"Linus\" = argument\n",
        "\n",
        "def my_function(fname):\n",
        "  print(fname + \" García\")"
      ],
      "execution_count": 3,
      "outputs": []
    },
    {
      "cell_type": "code",
      "source": [
        "my_function(\"Emil\")\n",
        "my_function(\"Tobias\")\n",
        "my_function(\"Linus\")"
      ],
      "metadata": {
        "colab": {
          "base_uri": "https://localhost:8080/"
        },
        "id": "aanse3Cya87Y",
        "outputId": "85ab7c3f-d00c-4499-b906-691345160608"
      },
      "execution_count": 4,
      "outputs": [
        {
          "output_type": "stream",
          "name": "stdout",
          "text": [
            "Emil García\n",
            "Tobias García\n",
            "Linus García\n"
          ]
        }
      ]
    },
    {
      "cell_type": "code",
      "metadata": {
        "id": "7KY_8hfD_Xk1"
      },
      "source": [
        "# If a function was defined with two parameters, it will need 2 arguments.\n",
        "def my_function(fname, lname):\n",
        "  print(fname + \" \" + lname)"
      ],
      "execution_count": 5,
      "outputs": []
    },
    {
      "cell_type": "code",
      "source": [
        "my_function(\"Emil\", \"Refsnes\")"
      ],
      "metadata": {
        "colab": {
          "base_uri": "https://localhost:8080/"
        },
        "id": "mHzAen8EbNrT",
        "outputId": "7b42d08f-402b-4603-8fbb-6ae52eea43bb"
      },
      "execution_count": 6,
      "outputs": [
        {
          "output_type": "stream",
          "name": "stdout",
          "text": [
            "Emil Refsnes\n"
          ]
        }
      ]
    },
    {
      "cell_type": "code",
      "metadata": {
        "id": "DKcY9HQ-ANep"
      },
      "source": [
        "# Arguments can be given under \"parameter = argument\" structure.\n",
        "\n",
        "def my_function(child3, child2, child1):\n",
        "  print(\"The youngest child is \" + child3)\n",
        "  a = child2 + child1\n",
        "  print(a)"
      ],
      "execution_count": 7,
      "outputs": []
    },
    {
      "cell_type": "code",
      "source": [
        "my_function(child1 = \"Emil\", child2 = \"Tobias\", child3 = \"Linus\")"
      ],
      "metadata": {
        "colab": {
          "base_uri": "https://localhost:8080/"
        },
        "id": "cQQyM_Buboq_",
        "outputId": "4ea36a03-a8e3-43d2-843d-9e0abdd8a4ae"
      },
      "execution_count": 8,
      "outputs": [
        {
          "output_type": "stream",
          "name": "stdout",
          "text": [
            "The youngest child is Linus\n",
            "TobiasEmil\n"
          ]
        }
      ]
    },
    {
      "cell_type": "code",
      "metadata": {
        "id": "19mt-7inAg_L"
      },
      "source": [
        "# List as an argument.\n",
        "def my_function(food):\n",
        "  for x in food:\n",
        "    print(x)"
      ],
      "execution_count": 9,
      "outputs": []
    },
    {
      "cell_type": "code",
      "source": [
        "fruits = [\"apple\", \"banana\", \"cherry\", 5, 8, True]\n",
        "\n",
        "my_function(fruits)"
      ],
      "metadata": {
        "colab": {
          "base_uri": "https://localhost:8080/"
        },
        "id": "XVZOkpKscPZT",
        "outputId": "e28bcb52-133f-4962-9b3a-b6a8864a41b4"
      },
      "execution_count": 10,
      "outputs": [
        {
          "output_type": "stream",
          "name": "stdout",
          "text": [
            "apple\n",
            "banana\n",
            "cherry\n",
            "5\n",
            "8\n",
            "True\n"
          ]
        }
      ]
    },
    {
      "cell_type": "code",
      "source": [
        "def funcion(lista):\n",
        "  print(lista[-1])\n",
        "  for x in range(len(lista)):\n",
        "    print(lista[x])\n"
      ],
      "metadata": {
        "id": "McVeZ2LRtBlM"
      },
      "execution_count": 11,
      "outputs": []
    },
    {
      "cell_type": "code",
      "source": [
        "example= [1,2,3,4,5,6,7,8,9]\n",
        "\n",
        "funcion(example)"
      ],
      "metadata": {
        "colab": {
          "base_uri": "https://localhost:8080/"
        },
        "id": "Xww5L9P6uBF-",
        "outputId": "0c67d4b7-b2ae-422d-8566-83830e6197af"
      },
      "execution_count": 13,
      "outputs": [
        {
          "output_type": "stream",
          "name": "stdout",
          "text": [
            "9\n",
            "1\n",
            "2\n",
            "3\n",
            "4\n",
            "5\n",
            "6\n",
            "7\n",
            "8\n",
            "9\n"
          ]
        }
      ]
    },
    {
      "cell_type": "markdown",
      "metadata": {
        "id": "bHSYpZ0E7-3g"
      },
      "source": [
        "In Python we have built-in functions.\n",
        "\n",
        "https://docs.python.org/3/library/functions.html"
      ]
    },
    {
      "cell_type": "markdown",
      "metadata": {
        "id": "v2awb3NnB2ks"
      },
      "source": [
        "---\n",
        "**M.Sc. Daniel López**\n",
        "\n",
        "**UA: Artificial Intelligence.**\n",
        "\n",
        "Sources:\n",
        "1. w3schools.com/python/default.asp\n",
        "2. codecademy.com\n",
        "3. Matthes, E. (2019). Python crash course: A hands-on, project-based introduction to programming. no starch press.\n"
      ]
    }
  ]
}